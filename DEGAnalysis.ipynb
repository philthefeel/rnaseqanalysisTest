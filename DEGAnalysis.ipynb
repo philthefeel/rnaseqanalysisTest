{
 "cells": [
  {
   "cell_type": "code",
   "execution_count": 1,
   "metadata": {},
   "outputs": [
    {
     "name": "stderr",
     "output_type": "stream",
     "text": [
      "Loading required package: limma\n",
      "\n"
     ]
    }
   ],
   "source": [
    "library(\"edgeR\")\n",
    "setwd('~/Documents/experiment/')"
   ]
  },
  {
   "cell_type": "code",
   "execution_count": 2,
   "metadata": {},
   "outputs": [
    {
     "data": {
      "text/html": [
       "<table>\n",
       "<caption>A data.frame: 6 × 3</caption>\n",
       "<thead>\n",
       "\t<tr><th></th><th scope=col>gene_name</th><th scope=col>SRR925742_1</th><th scope=col>SRR1283038_1</th></tr>\n",
       "\t<tr><th></th><th scope=col>&lt;chr&gt;</th><th scope=col>&lt;int&gt;</th><th scope=col>&lt;int&gt;</th></tr>\n",
       "</thead>\n",
       "<tbody>\n",
       "\t<tr><th scope=row>ENSG00000223972.5</th><td>DDX11L1    </td><td>0</td><td> 2</td></tr>\n",
       "\t<tr><th scope=row>ENSG00000227232.5</th><td>WASH7P     </td><td>9</td><td>25</td></tr>\n",
       "\t<tr><th scope=row>ENSG00000278267.1</th><td>MIR6859-1  </td><td>0</td><td> 0</td></tr>\n",
       "\t<tr><th scope=row>ENSG00000243485.5</th><td>MIR1302-2HG</td><td>0</td><td> 0</td></tr>\n",
       "\t<tr><th scope=row>ENSG00000284332.1</th><td>MIR1302-2  </td><td>0</td><td> 0</td></tr>\n",
       "\t<tr><th scope=row>ENSG00000237613.2</th><td>FAM138A    </td><td>0</td><td> 0</td></tr>\n",
       "</tbody>\n",
       "</table>\n"
      ],
      "text/latex": [
       "A data.frame: 6 × 3\n",
       "\\begin{tabular}{r|lll}\n",
       "  & gene\\_name & SRR925742\\_1 & SRR1283038\\_1\\\\\n",
       "  & <chr> & <int> & <int>\\\\\n",
       "\\hline\n",
       "\tENSG00000223972.5 & DDX11L1     & 0 &  2\\\\\n",
       "\tENSG00000227232.5 & WASH7P      & 9 & 25\\\\\n",
       "\tENSG00000278267.1 & MIR6859-1   & 0 &  0\\\\\n",
       "\tENSG00000243485.5 & MIR1302-2HG & 0 &  0\\\\\n",
       "\tENSG00000284332.1 & MIR1302-2   & 0 &  0\\\\\n",
       "\tENSG00000237613.2 & FAM138A     & 0 &  0\\\\\n",
       "\\end{tabular}\n"
      ],
      "text/markdown": [
       "\n",
       "A data.frame: 6 × 3\n",
       "\n",
       "| <!--/--> | gene_name &lt;chr&gt; | SRR925742_1 &lt;int&gt; | SRR1283038_1 &lt;int&gt; |\n",
       "|---|---|---|---|\n",
       "| ENSG00000223972.5 | DDX11L1     | 0 |  2 |\n",
       "| ENSG00000227232.5 | WASH7P      | 9 | 25 |\n",
       "| ENSG00000278267.1 | MIR6859-1   | 0 |  0 |\n",
       "| ENSG00000243485.5 | MIR1302-2HG | 0 |  0 |\n",
       "| ENSG00000284332.1 | MIR1302-2   | 0 |  0 |\n",
       "| ENSG00000237613.2 | FAM138A     | 0 |  0 |\n",
       "\n"
      ],
      "text/plain": [
       "                  gene_name   SRR925742_1 SRR1283038_1\n",
       "ENSG00000223972.5 DDX11L1     0            2          \n",
       "ENSG00000227232.5 WASH7P      9           25          \n",
       "ENSG00000278267.1 MIR6859-1   0            0          \n",
       "ENSG00000243485.5 MIR1302-2HG 0            0          \n",
       "ENSG00000284332.1 MIR1302-2   0            0          \n",
       "ENSG00000237613.2 FAM138A     0            0          "
      ]
     },
     "metadata": {},
     "output_type": "display_data"
    },
    {
     "data": {
      "text/html": [
       "<table>\n",
       "<caption>A data.frame: 2 × 28</caption>\n",
       "<thead>\n",
       "\t<tr><th scope=col>Run</th><th scope=col>Assay.Type</th><th scope=col>AvgSpotLen</th><th scope=col>Bases</th><th scope=col>BioProject</th><th scope=col>BioSample</th><th scope=col>Bytes</th><th scope=col>Cell_Line</th><th scope=col>Cell_type</th><th scope=col>Center.Name</th><th scope=col>⋯</th><th scope=col>LibrarySelection</th><th scope=col>LibrarySource</th><th scope=col>Organism</th><th scope=col>Platform</th><th scope=col>ReleaseDate</th><th scope=col>Sample.Name</th><th scope=col>source_name</th><th scope=col>SRA.Study</th><th scope=col>subtype</th><th scope=col>quality..run.</th></tr>\n",
       "\t<tr><th scope=col>&lt;chr&gt;</th><th scope=col>&lt;chr&gt;</th><th scope=col>&lt;int&gt;</th><th scope=col>&lt;dbl&gt;</th><th scope=col>&lt;chr&gt;</th><th scope=col>&lt;chr&gt;</th><th scope=col>&lt;dbl&gt;</th><th scope=col>&lt;chr&gt;</th><th scope=col>&lt;chr&gt;</th><th scope=col>&lt;chr&gt;</th><th scope=col>⋯</th><th scope=col>&lt;chr&gt;</th><th scope=col>&lt;chr&gt;</th><th scope=col>&lt;chr&gt;</th><th scope=col>&lt;chr&gt;</th><th scope=col>&lt;chr&gt;</th><th scope=col>&lt;chr&gt;</th><th scope=col>&lt;chr&gt;</th><th scope=col>&lt;chr&gt;</th><th scope=col>&lt;chr&gt;</th><th scope=col>&lt;lgl&gt;</th></tr>\n",
       "</thead>\n",
       "<tbody>\n",
       "\t<tr><td>SRR925742 </td><td>RNA-Seq</td><td>152</td><td>4253695832</td><td>PRJNA210428</td><td>SAMN02225564</td><td>2139823332</td><td>ZR75B   </td><td>breast cancer          </td><td>GEO</td><td>⋯</td><td>cDNA</td><td>TRANSCRIPTOMIC</td><td>Homo sapiens</td><td>ILLUMINA</td><td>2015-07-22T00:00:00Z</td><td>GSM1172910</td><td>breast cancer cell line</td><td>SRP026537</td><td>Luminal</td><td>NA</td></tr>\n",
       "\t<tr><td>SRR1283038</td><td>RNA-Seq</td><td>154</td><td>6907369604</td><td>PRJNA210428</td><td>SAMN02768721</td><td>3756629102</td><td>MDAMB453</td><td>breast cancer cell line</td><td>GEO</td><td>⋯</td><td>cDNA</td><td>TRANSCRIPTOMIC</td><td>Homo sapiens</td><td>ILLUMINA</td><td>2014-05-12T00:00:00Z</td><td>GSM1384316</td><td>breast cancer cell line</td><td>SRP026537</td><td>Luminal</td><td>NA</td></tr>\n",
       "</tbody>\n",
       "</table>\n"
      ],
      "text/latex": [
       "A data.frame: 2 × 28\n",
       "\\begin{tabular}{lllllllllllllllllllll}\n",
       " Run & Assay.Type & AvgSpotLen & Bases & BioProject & BioSample & Bytes & Cell\\_Line & Cell\\_type & Center.Name & ⋯ & LibrarySelection & LibrarySource & Organism & Platform & ReleaseDate & Sample.Name & source\\_name & SRA.Study & subtype & quality..run.\\\\\n",
       " <chr> & <chr> & <int> & <dbl> & <chr> & <chr> & <dbl> & <chr> & <chr> & <chr> & ⋯ & <chr> & <chr> & <chr> & <chr> & <chr> & <chr> & <chr> & <chr> & <chr> & <lgl>\\\\\n",
       "\\hline\n",
       "\t SRR925742  & RNA-Seq & 152 & 4253695832 & PRJNA210428 & SAMN02225564 & 2139823332 & ZR75B    & breast cancer           & GEO & ⋯ & cDNA & TRANSCRIPTOMIC & Homo sapiens & ILLUMINA & 2015-07-22T00:00:00Z & GSM1172910 & breast cancer cell line & SRP026537 & Luminal & NA\\\\\n",
       "\t SRR1283038 & RNA-Seq & 154 & 6907369604 & PRJNA210428 & SAMN02768721 & 3756629102 & MDAMB453 & breast cancer cell line & GEO & ⋯ & cDNA & TRANSCRIPTOMIC & Homo sapiens & ILLUMINA & 2014-05-12T00:00:00Z & GSM1384316 & breast cancer cell line & SRP026537 & Luminal & NA\\\\\n",
       "\\end{tabular}\n"
      ],
      "text/markdown": [
       "\n",
       "A data.frame: 2 × 28\n",
       "\n",
       "| Run &lt;chr&gt; | Assay.Type &lt;chr&gt; | AvgSpotLen &lt;int&gt; | Bases &lt;dbl&gt; | BioProject &lt;chr&gt; | BioSample &lt;chr&gt; | Bytes &lt;dbl&gt; | Cell_Line &lt;chr&gt; | Cell_type &lt;chr&gt; | Center.Name &lt;chr&gt; | ⋯ ⋯ | LibrarySelection &lt;chr&gt; | LibrarySource &lt;chr&gt; | Organism &lt;chr&gt; | Platform &lt;chr&gt; | ReleaseDate &lt;chr&gt; | Sample.Name &lt;chr&gt; | source_name &lt;chr&gt; | SRA.Study &lt;chr&gt; | subtype &lt;chr&gt; | quality..run. &lt;lgl&gt; |\n",
       "|---|---|---|---|---|---|---|---|---|---|---|---|---|---|---|---|---|---|---|---|---|\n",
       "| SRR925742  | RNA-Seq | 152 | 4253695832 | PRJNA210428 | SAMN02225564 | 2139823332 | ZR75B    | breast cancer           | GEO | ⋯ | cDNA | TRANSCRIPTOMIC | Homo sapiens | ILLUMINA | 2015-07-22T00:00:00Z | GSM1172910 | breast cancer cell line | SRP026537 | Luminal | NA |\n",
       "| SRR1283038 | RNA-Seq | 154 | 6907369604 | PRJNA210428 | SAMN02768721 | 3756629102 | MDAMB453 | breast cancer cell line | GEO | ⋯ | cDNA | TRANSCRIPTOMIC | Homo sapiens | ILLUMINA | 2014-05-12T00:00:00Z | GSM1384316 | breast cancer cell line | SRP026537 | Luminal | NA |\n",
       "\n"
      ],
      "text/plain": [
       "  Run        Assay.Type AvgSpotLen Bases      BioProject  BioSample   \n",
       "1 SRR925742  RNA-Seq    152        4253695832 PRJNA210428 SAMN02225564\n",
       "2 SRR1283038 RNA-Seq    154        6907369604 PRJNA210428 SAMN02768721\n",
       "  Bytes      Cell_Line Cell_type               Center.Name ⋯ LibrarySelection\n",
       "1 2139823332 ZR75B     breast cancer           GEO         ⋯ cDNA            \n",
       "2 3756629102 MDAMB453  breast cancer cell line GEO         ⋯ cDNA            \n",
       "  LibrarySource  Organism     Platform ReleaseDate          Sample.Name\n",
       "1 TRANSCRIPTOMIC Homo sapiens ILLUMINA 2015-07-22T00:00:00Z GSM1172910 \n",
       "2 TRANSCRIPTOMIC Homo sapiens ILLUMINA 2014-05-12T00:00:00Z GSM1384316 \n",
       "  source_name             SRA.Study subtype quality..run.\n",
       "1 breast cancer cell line SRP026537 Luminal NA           \n",
       "2 breast cancer cell line SRP026537 Luminal NA           "
      ]
     },
     "metadata": {},
     "output_type": "display_data"
    }
   ],
   "source": [
    "# Loading counts and metadata tables\n",
    "countsData <- read.table('output/featureCounts/merged_gene_counts.txt', sep = '\\t', row.names = 1, header = T) # counts table of two samples from different cell lines\n",
    "metaData <- read.table('SraRunTable.txt', header = T, sep = ',') # Metadata table of samples\n",
    "head(countsData)\n",
    "metaData"
   ]
  },
  {
   "cell_type": "code",
   "execution_count": 3,
   "metadata": {},
   "outputs": [
    {
     "data": {
      "text/html": [
       "<style>\n",
       ".list-inline {list-style: none; margin:0; padding: 0}\n",
       ".list-inline>li {display: inline-block}\n",
       ".list-inline>li:not(:last-child)::after {content: \"\\00b7\"; padding: 0 .5ex}\n",
       "</style>\n",
       "<ol class=list-inline><li>'gene_name'</li><li>'SRR925742'</li><li>'SRR1283038'</li></ol>\n"
      ],
      "text/latex": [
       "\\begin{enumerate*}\n",
       "\\item 'gene\\_name'\n",
       "\\item 'SRR925742'\n",
       "\\item 'SRR1283038'\n",
       "\\end{enumerate*}\n"
      ],
      "text/markdown": [
       "1. 'gene_name'\n",
       "2. 'SRR925742'\n",
       "3. 'SRR1283038'\n",
       "\n",
       "\n"
      ],
      "text/plain": [
       "[1] \"gene_name\"  \"SRR925742\"  \"SRR1283038\""
      ]
     },
     "metadata": {},
     "output_type": "display_data"
    }
   ],
   "source": [
    "# Preproccessing\n",
    "colnames(countsData)[c(2,3)] <- gsub(\"_1\", \"\", colnames(countsData)[c(2,3)]) # Gene name formatting: removing sufix _1 from sample names\n",
    "names(countsData)\n",
    "cellLine <- as.factor(metaData$Cell_Line) # groups to be compared: 2 different cell lines \n",
    "names(cellLine) <- metaData$Run\n",
    "geneName <- countsData$gene_name\n",
    "countsData$gene_name <- NULL # countsData only with counts columns of each sample"
   ]
  },
  {
   "cell_type": "code",
   "execution_count": 4,
   "metadata": {},
   "outputs": [
    {
     "data": {
      "text/html": [
       "<table>\n",
       "<caption>A matrix: 2 × 3 of type int</caption>\n",
       "<thead>\n",
       "\t<tr><th scope=col>counts</th><th scope=col>samples</th><th scope=col>genes</th></tr>\n",
       "</thead>\n",
       "<tbody>\n",
       "\t<tr><td>29985</td><td>2</td><td>29985</td></tr>\n",
       "\t<tr><td>    2</td><td>3</td><td>    1</td></tr>\n",
       "</tbody>\n",
       "</table>\n"
      ],
      "text/latex": [
       "A matrix: 2 × 3 of type int\n",
       "\\begin{tabular}{lll}\n",
       " counts & samples & genes\\\\\n",
       "\\hline\n",
       "\t 29985 & 2 & 29985\\\\\n",
       "\t     2 & 3 &     1\\\\\n",
       "\\end{tabular}\n"
      ],
      "text/markdown": [
       "\n",
       "A matrix: 2 × 3 of type int\n",
       "\n",
       "| counts | samples | genes |\n",
       "|---|---|---|\n",
       "| 29985 | 2 | 29985 |\n",
       "|     2 | 3 |     1 |\n",
       "\n"
      ],
      "text/plain": [
       "     counts samples genes\n",
       "[1,] 29985  2       29985\n",
       "[2,]     2  3           1"
      ]
     },
     "metadata": {},
     "output_type": "display_data"
    }
   ],
   "source": [
    "# Differential expression functions\n",
    "dgeList <-DGEList(counts = countsData, group = cellLine, genes = geneName) \n",
    "sapply(dgeList, dim) # Number of genes before filtering"
   ]
  },
  {
   "cell_type": "code",
   "execution_count": 5,
   "metadata": {},
   "outputs": [
    {
     "data": {
      "text/html": [
       "<table>\n",
       "<caption>A matrix: 2 × 3 of type int</caption>\n",
       "<thead>\n",
       "\t<tr><th scope=col>counts</th><th scope=col>samples</th><th scope=col>genes</th></tr>\n",
       "</thead>\n",
       "<tbody>\n",
       "\t<tr><td>1079</td><td>2</td><td>1079</td></tr>\n",
       "\t<tr><td>   2</td><td>3</td><td>   1</td></tr>\n",
       "</tbody>\n",
       "</table>\n"
      ],
      "text/latex": [
       "A matrix: 2 × 3 of type int\n",
       "\\begin{tabular}{lll}\n",
       " counts & samples & genes\\\\\n",
       "\\hline\n",
       "\t 1079 & 2 & 1079\\\\\n",
       "\t    2 & 3 &    1\\\\\n",
       "\\end{tabular}\n"
      ],
      "text/markdown": [
       "\n",
       "A matrix: 2 × 3 of type int\n",
       "\n",
       "| counts | samples | genes |\n",
       "|---|---|---|\n",
       "| 1079 | 2 | 1079 |\n",
       "|    2 | 3 |    1 |\n",
       "\n"
      ],
      "text/plain": [
       "     counts samples genes\n",
       "[1,] 1079   2       1079 \n",
       "[2,]    2   3          1 "
      ]
     },
     "metadata": {},
     "output_type": "display_data"
    }
   ],
   "source": [
    "# Filtering out genes with low amount of counts\n",
    "toKeep <- filterByExpr(dgeList)\n",
    "dgeListFilt <- dgeList[toKeep, , keep.lib.sizes=FALSE]\n",
    "sapply(dgeListFilt, dim) # Number of genes after filtering"
   ]
  },
  {
   "cell_type": "code",
   "execution_count": 6,
   "metadata": {},
   "outputs": [
    {
     "data": {
      "text/html": [
       "<dl>\n",
       "\t<dt>$counts</dt>\n",
       "\t\t<dd><table>\n",
       "<caption>A matrix: 6 × 2 of type int</caption>\n",
       "<thead>\n",
       "\t<tr><th></th><th scope=col>SRR925742</th><th scope=col>SRR1283038</th></tr>\n",
       "</thead>\n",
       "<tbody>\n",
       "\t<tr><th scope=row>ENSG00000227232.5</th><td>    9</td><td>   25</td></tr>\n",
       "\t<tr><th scope=row>ENSG00000279457.4</th><td>   19</td><td>   35</td></tr>\n",
       "\t<tr><th scope=row>ENSG00000225972.1</th><td> 1028</td><td>  192</td></tr>\n",
       "\t<tr><th scope=row>ENSG00000225630.1</th><td> 3497</td><td> 1018</td></tr>\n",
       "\t<tr><th scope=row>ENSG00000237973.1</th><td>12303</td><td>12954</td></tr>\n",
       "\t<tr><th scope=row>ENSG00000229344.1</th><td> 4057</td><td> 3849</td></tr>\n",
       "</tbody>\n",
       "</table>\n",
       "</dd>\n",
       "\t<dt>$samples</dt>\n",
       "\t\t<dd><table>\n",
       "<caption>A data.frame: 2 × 3</caption>\n",
       "<thead>\n",
       "\t<tr><th></th><th scope=col>group</th><th scope=col>lib.size</th><th scope=col>norm.factors</th></tr>\n",
       "\t<tr><th></th><th scope=col>&lt;fct&gt;</th><th scope=col>&lt;dbl&gt;</th><th scope=col>&lt;dbl&gt;</th></tr>\n",
       "</thead>\n",
       "<tbody>\n",
       "\t<tr><th scope=row>SRR925742</th><td>ZR75B   </td><td>93866</td><td>0.8958021</td></tr>\n",
       "\t<tr><th scope=row>SRR1283038</th><td>MDAMB453</td><td>99903</td><td>1.1163180</td></tr>\n",
       "</tbody>\n",
       "</table>\n",
       "</dd>\n",
       "\t<dt>$genes</dt>\n",
       "\t\t<dd><table>\n",
       "<caption>A data.frame: 6 × 1</caption>\n",
       "<thead>\n",
       "\t<tr><th></th><th scope=col>genes</th></tr>\n",
       "\t<tr><th></th><th scope=col>&lt;chr&gt;</th></tr>\n",
       "</thead>\n",
       "<tbody>\n",
       "\t<tr><th scope=row>ENSG00000227232.5</th><td>WASH7P  </td></tr>\n",
       "\t<tr><th scope=row>ENSG00000279457.4</th><td>WASH9P  </td></tr>\n",
       "\t<tr><th scope=row>ENSG00000225972.1</th><td>MTND1P23</td></tr>\n",
       "\t<tr><th scope=row>ENSG00000225630.1</th><td>MTND2P28</td></tr>\n",
       "\t<tr><th scope=row>ENSG00000237973.1</th><td>MTCO1P12</td></tr>\n",
       "\t<tr><th scope=row>ENSG00000229344.1</th><td>MTCO2P12</td></tr>\n",
       "</tbody>\n",
       "</table>\n",
       "</dd>\n",
       "</dl>\n"
      ],
      "text/latex": [
       "\\begin{description}\n",
       "\\item[\\$counts] A matrix: 6 × 2 of type int\n",
       "\\begin{tabular}{r|ll}\n",
       "  & SRR925742 & SRR1283038\\\\\n",
       "\\hline\n",
       "\tENSG00000227232.5 &     9 &    25\\\\\n",
       "\tENSG00000279457.4 &    19 &    35\\\\\n",
       "\tENSG00000225972.1 &  1028 &   192\\\\\n",
       "\tENSG00000225630.1 &  3497 &  1018\\\\\n",
       "\tENSG00000237973.1 & 12303 & 12954\\\\\n",
       "\tENSG00000229344.1 &  4057 &  3849\\\\\n",
       "\\end{tabular}\n",
       "\n",
       "\\item[\\$samples] A data.frame: 2 × 3\n",
       "\\begin{tabular}{r|lll}\n",
       "  & group & lib.size & norm.factors\\\\\n",
       "  & <fct> & <dbl> & <dbl>\\\\\n",
       "\\hline\n",
       "\tSRR925742 & ZR75B    & 93866 & 0.8958021\\\\\n",
       "\tSRR1283038 & MDAMB453 & 99903 & 1.1163180\\\\\n",
       "\\end{tabular}\n",
       "\n",
       "\\item[\\$genes] A data.frame: 6 × 1\n",
       "\\begin{tabular}{r|l}\n",
       "  & genes\\\\\n",
       "  & <chr>\\\\\n",
       "\\hline\n",
       "\tENSG00000227232.5 & WASH7P  \\\\\n",
       "\tENSG00000279457.4 & WASH9P  \\\\\n",
       "\tENSG00000225972.1 & MTND1P23\\\\\n",
       "\tENSG00000225630.1 & MTND2P28\\\\\n",
       "\tENSG00000237973.1 & MTCO1P12\\\\\n",
       "\tENSG00000229344.1 & MTCO2P12\\\\\n",
       "\\end{tabular}\n",
       "\n",
       "\\end{description}\n"
      ],
      "text/markdown": [
       "$counts\n",
       ":   \n",
       "A matrix: 6 × 2 of type int\n",
       "\n",
       "| <!--/--> | SRR925742 | SRR1283038 |\n",
       "|---|---|---|\n",
       "| ENSG00000227232.5 |     9 |    25 |\n",
       "| ENSG00000279457.4 |    19 |    35 |\n",
       "| ENSG00000225972.1 |  1028 |   192 |\n",
       "| ENSG00000225630.1 |  3497 |  1018 |\n",
       "| ENSG00000237973.1 | 12303 | 12954 |\n",
       "| ENSG00000229344.1 |  4057 |  3849 |\n",
       "\n",
       "\n",
       "$samples\n",
       ":   \n",
       "A data.frame: 2 × 3\n",
       "\n",
       "| <!--/--> | group &lt;fct&gt; | lib.size &lt;dbl&gt; | norm.factors &lt;dbl&gt; |\n",
       "|---|---|---|---|\n",
       "| SRR925742 | ZR75B    | 93866 | 0.8958021 |\n",
       "| SRR1283038 | MDAMB453 | 99903 | 1.1163180 |\n",
       "\n",
       "\n",
       "$genes\n",
       ":   \n",
       "A data.frame: 6 × 1\n",
       "\n",
       "| <!--/--> | genes &lt;chr&gt; |\n",
       "|---|---|\n",
       "| ENSG00000227232.5 | WASH7P   |\n",
       "| ENSG00000279457.4 | WASH9P   |\n",
       "| ENSG00000225972.1 | MTND1P23 |\n",
       "| ENSG00000225630.1 | MTND2P28 |\n",
       "| ENSG00000237973.1 | MTCO1P12 |\n",
       "| ENSG00000229344.1 | MTCO2P12 |\n",
       "\n",
       "\n",
       "\n",
       "\n"
      ],
      "text/plain": [
       "$counts\n",
       "                  SRR925742 SRR1283038\n",
       "ENSG00000227232.5         9         25\n",
       "ENSG00000279457.4        19         35\n",
       "ENSG00000225972.1      1028        192\n",
       "ENSG00000225630.1      3497       1018\n",
       "ENSG00000237973.1     12303      12954\n",
       "ENSG00000229344.1      4057       3849\n",
       "\n",
       "$samples\n",
       "              group lib.size norm.factors\n",
       "SRR925742     ZR75B    93866    0.8958021\n",
       "SRR1283038 MDAMB453    99903    1.1163180\n",
       "\n",
       "$genes\n",
       "                     genes\n",
       "ENSG00000227232.5   WASH7P\n",
       "ENSG00000279457.4   WASH9P\n",
       "ENSG00000225972.1 MTND1P23\n",
       "ENSG00000225630.1 MTND2P28\n",
       "ENSG00000237973.1 MTCO1P12\n",
       "ENSG00000229344.1 MTCO2P12\n"
      ]
     },
     "metadata": {},
     "output_type": "display_data"
    },
    {
     "name": "stderr",
     "output_type": "stream",
     "text": [
      "Warning message in estimateCommonDisp.DGEList(dgeListNorm):\n",
      "“There is no replication, setting dispersion to NA.”\n"
     ]
    }
   ],
   "source": [
    "# Data Normalization. by default with TMM method\n",
    "dgeListNorm <- calcNormFactors(dgeListFilt)\n",
    "sapply(dgeListNorm, head)\n",
    "dgeListNorm <- estimateCommonDisp(dgeListNorm)\n",
    "dgeListNorm$common.dispersion <- 0.1 # Dispersion is setting manually due to the lack of replicates. Is needed for computing foldchange"
   ]
  },
  {
   "cell_type": "code",
   "execution_count": 9,
   "metadata": {},
   "outputs": [
    {
     "data": {
      "text/html": [
       "<dl>\n",
       "\t<dt>$table</dt>\n",
       "\t\t<dd><table>\n",
       "<caption>A data.frame: 10 × 5</caption>\n",
       "<thead>\n",
       "\t<tr><th></th><th scope=col>genes</th><th scope=col>logFC</th><th scope=col>logCPM</th><th scope=col>PValue</th><th scope=col>FDR</th></tr>\n",
       "\t<tr><th></th><th scope=col>&lt;chr&gt;</th><th scope=col>&lt;dbl&gt;</th><th scope=col>&lt;dbl&gt;</th><th scope=col>&lt;dbl&gt;</th><th scope=col>&lt;dbl&gt;</th></tr>\n",
       "</thead>\n",
       "<tbody>\n",
       "\t<tr><th scope=row>ENSG00000137975.8</th><td>CLCA2     </td><td> -9.524991</td><td>12.256025</td><td>6.785266e-17</td><td>7.321302e-14</td></tr>\n",
       "\t<tr><th scope=row>ENSG00000185499.16</th><td>MUC1      </td><td>  9.146239</td><td>11.508080</td><td>1.792863e-15</td><td>9.672495e-13</td></tr>\n",
       "\t<tr><th scope=row>ENSG00000117519.16</th><td>CNN3      </td><td>-10.612446</td><td>10.012702</td><td>4.322283e-12</td><td>1.554581e-09</td></tr>\n",
       "\t<tr><th scope=row>ENSG00000162383.13</th><td>SLC1A7    </td><td>-10.404146</td><td> 9.811095</td><td>1.637838e-11</td><td>4.418067e-09</td></tr>\n",
       "\t<tr><th scope=row>ENSG00000188460.4</th><td>ACTBP11   </td><td>  6.240111</td><td> 9.536169</td><td>8.449521e-10</td><td>1.823407e-07</td></tr>\n",
       "\t<tr><th scope=row>ENSG00000178715.8</th><td>AL450998.1</td><td>  5.577043</td><td> 9.438242</td><td>9.239616e-09</td><td>1.661591e-06</td></tr>\n",
       "\t<tr><th scope=row>ENSG00000230364.1</th><td>RPL4P3    </td><td>  5.122906</td><td> 9.702888</td><td>2.223249e-08</td><td>3.426979e-06</td></tr>\n",
       "\t<tr><th scope=row>ENSG00000225616.2</th><td>AL138785.1</td><td>  9.053653</td><td> 8.444698</td><td>6.691571e-08</td><td>8.379931e-06</td></tr>\n",
       "\t<tr><th scope=row>ENSG00000230777.1</th><td>RPS29P5   </td><td>  5.232967</td><td> 9.107470</td><td>6.989748e-08</td><td>8.379931e-06</td></tr>\n",
       "\t<tr><th scope=row>ENSG00000163873.10</th><td>GRIK3     </td><td>  8.864999</td><td> 8.262954</td><td>1.935577e-07</td><td>2.088488e-05</td></tr>\n",
       "</tbody>\n",
       "</table>\n",
       "</dd>\n",
       "\t<dt>$adjust.method</dt>\n",
       "\t\t<dd>'BH'</dd>\n",
       "\t<dt>$comparison</dt>\n",
       "\t\t<dd><style>\n",
       ".list-inline {list-style: none; margin:0; padding: 0}\n",
       ".list-inline>li {display: inline-block}\n",
       ".list-inline>li:not(:last-child)::after {content: \"\\00b7\"; padding: 0 .5ex}\n",
       "</style>\n",
       "<ol class=list-inline><li>'MDAMB453'</li><li>'ZR75B'</li></ol>\n",
       "</dd>\n",
       "\t<dt>$test</dt>\n",
       "\t\t<dd>'exact'</dd>\n",
       "</dl>\n"
      ],
      "text/latex": [
       "\\begin{description}\n",
       "\\item[\\$table] A data.frame: 10 × 5\n",
       "\\begin{tabular}{r|lllll}\n",
       "  & genes & logFC & logCPM & PValue & FDR\\\\\n",
       "  & <chr> & <dbl> & <dbl> & <dbl> & <dbl>\\\\\n",
       "\\hline\n",
       "\tENSG00000137975.8 & CLCA2      &  -9.524991 & 12.256025 & 6.785266e-17 & 7.321302e-14\\\\\n",
       "\tENSG00000185499.16 & MUC1       &   9.146239 & 11.508080 & 1.792863e-15 & 9.672495e-13\\\\\n",
       "\tENSG00000117519.16 & CNN3       & -10.612446 & 10.012702 & 4.322283e-12 & 1.554581e-09\\\\\n",
       "\tENSG00000162383.13 & SLC1A7     & -10.404146 &  9.811095 & 1.637838e-11 & 4.418067e-09\\\\\n",
       "\tENSG00000188460.4 & ACTBP11    &   6.240111 &  9.536169 & 8.449521e-10 & 1.823407e-07\\\\\n",
       "\tENSG00000178715.8 & AL450998.1 &   5.577043 &  9.438242 & 9.239616e-09 & 1.661591e-06\\\\\n",
       "\tENSG00000230364.1 & RPL4P3     &   5.122906 &  9.702888 & 2.223249e-08 & 3.426979e-06\\\\\n",
       "\tENSG00000225616.2 & AL138785.1 &   9.053653 &  8.444698 & 6.691571e-08 & 8.379931e-06\\\\\n",
       "\tENSG00000230777.1 & RPS29P5    &   5.232967 &  9.107470 & 6.989748e-08 & 8.379931e-06\\\\\n",
       "\tENSG00000163873.10 & GRIK3      &   8.864999 &  8.262954 & 1.935577e-07 & 2.088488e-05\\\\\n",
       "\\end{tabular}\n",
       "\n",
       "\\item[\\$adjust.method] 'BH'\n",
       "\\item[\\$comparison] \\begin{enumerate*}\n",
       "\\item 'MDAMB453'\n",
       "\\item 'ZR75B'\n",
       "\\end{enumerate*}\n",
       "\n",
       "\\item[\\$test] 'exact'\n",
       "\\end{description}\n"
      ],
      "text/markdown": [
       "$table\n",
       ":   \n",
       "A data.frame: 10 × 5\n",
       "\n",
       "| <!--/--> | genes &lt;chr&gt; | logFC &lt;dbl&gt; | logCPM &lt;dbl&gt; | PValue &lt;dbl&gt; | FDR &lt;dbl&gt; |\n",
       "|---|---|---|---|---|---|\n",
       "| ENSG00000137975.8 | CLCA2      |  -9.524991 | 12.256025 | 6.785266e-17 | 7.321302e-14 |\n",
       "| ENSG00000185499.16 | MUC1       |   9.146239 | 11.508080 | 1.792863e-15 | 9.672495e-13 |\n",
       "| ENSG00000117519.16 | CNN3       | -10.612446 | 10.012702 | 4.322283e-12 | 1.554581e-09 |\n",
       "| ENSG00000162383.13 | SLC1A7     | -10.404146 |  9.811095 | 1.637838e-11 | 4.418067e-09 |\n",
       "| ENSG00000188460.4 | ACTBP11    |   6.240111 |  9.536169 | 8.449521e-10 | 1.823407e-07 |\n",
       "| ENSG00000178715.8 | AL450998.1 |   5.577043 |  9.438242 | 9.239616e-09 | 1.661591e-06 |\n",
       "| ENSG00000230364.1 | RPL4P3     |   5.122906 |  9.702888 | 2.223249e-08 | 3.426979e-06 |\n",
       "| ENSG00000225616.2 | AL138785.1 |   9.053653 |  8.444698 | 6.691571e-08 | 8.379931e-06 |\n",
       "| ENSG00000230777.1 | RPS29P5    |   5.232967 |  9.107470 | 6.989748e-08 | 8.379931e-06 |\n",
       "| ENSG00000163873.10 | GRIK3      |   8.864999 |  8.262954 | 1.935577e-07 | 2.088488e-05 |\n",
       "\n",
       "\n",
       "$adjust.method\n",
       ":   'BH'\n",
       "$comparison\n",
       ":   1. 'MDAMB453'\n",
       "2. 'ZR75B'\n",
       "\n",
       "\n",
       "\n",
       "$test\n",
       ":   'exact'\n",
       "\n",
       "\n"
      ],
      "text/plain": [
       "Comparison of groups:  ZR75B-MDAMB453 \n",
       "                        genes      logFC    logCPM       PValue          FDR\n",
       "ENSG00000137975.8       CLCA2  -9.524991 12.256025 6.785266e-17 7.321302e-14\n",
       "ENSG00000185499.16       MUC1   9.146239 11.508080 1.792863e-15 9.672495e-13\n",
       "ENSG00000117519.16       CNN3 -10.612446 10.012702 4.322283e-12 1.554581e-09\n",
       "ENSG00000162383.13     SLC1A7 -10.404146  9.811095 1.637838e-11 4.418067e-09\n",
       "ENSG00000188460.4     ACTBP11   6.240111  9.536169 8.449521e-10 1.823407e-07\n",
       "ENSG00000178715.8  AL450998.1   5.577043  9.438242 9.239616e-09 1.661591e-06\n",
       "ENSG00000230364.1      RPL4P3   5.122906  9.702888 2.223249e-08 3.426979e-06\n",
       "ENSG00000225616.2  AL138785.1   9.053653  8.444698 6.691571e-08 8.379931e-06\n",
       "ENSG00000230777.1     RPS29P5   5.232967  9.107470 6.989748e-08 8.379931e-06\n",
       "ENSG00000163873.10      GRIK3   8.864999  8.262954 1.935577e-07 2.088488e-05"
      ]
     },
     "metadata": {},
     "output_type": "display_data"
    }
   ],
   "source": [
    "# Computing fold change \n",
    "dgeListFC <- exactTest(dgeListNorm) \n",
    "# Top differential expressed genes\n",
    "(topDEG <- topTags(dgeListFC))"
   ]
  },
  {
   "cell_type": "code",
   "execution_count": null,
   "metadata": {},
   "outputs": [],
   "source": []
  }
 ],
 "metadata": {
  "kernelspec": {
   "display_name": "R",
   "language": "R",
   "name": "ir"
  },
  "language_info": {
   "codemirror_mode": "r",
   "file_extension": ".r",
   "mimetype": "text/x-r-source",
   "name": "R",
   "pygments_lexer": "r",
   "version": "4.0.2"
  }
 },
 "nbformat": 4,
 "nbformat_minor": 4
}
